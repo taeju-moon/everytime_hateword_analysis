{
 "cells": [
  {
   "cell_type": "code",
   "execution_count": 1,
   "id": "1f94aea1",
   "metadata": {},
   "outputs": [
    {
     "name": "stderr",
     "output_type": "stream",
     "text": [
      "<ipython-input-1-be780f014db3>:3: DeprecationWarning: executable_path has been deprecated, please pass in a Service object\n",
      "  driver = webdriver.Chrome('chromedriver.exe')\n"
     ]
    },
    {
     "ename": "SessionNotCreatedException",
     "evalue": "Message: session not created: This version of ChromeDriver only supports Chrome version 100\nCurrent browser version is 102.0.5005.63 with binary path C:\\Program Files\\Google\\Chrome\\Application\\chrome.exe\nStacktrace:\nBacktrace:\n\tOrdinal0 [0x00AF7413+2389011]\n\tOrdinal0 [0x00A89F61+1941345]\n\tOrdinal0 [0x0097C658+837208]\n\tOrdinal0 [0x0099C773+968563]\n\tOrdinal0 [0x0099837A+951162]\n\tOrdinal0 [0x00995C51+941137]\n\tOrdinal0 [0x009C8C80+1150080]\n\tOrdinal0 [0x009C88DA+1149146]\n\tOrdinal0 [0x009C3F66+1130342]\n\tOrdinal0 [0x0099E546+976198]\n\tOrdinal0 [0x0099F456+980054]\n\tGetHandleVerifier [0x00CA9632+1727522]\n\tGetHandleVerifier [0x00D5BA4D+2457661]\n\tGetHandleVerifier [0x00B8EB81+569713]\n\tGetHandleVerifier [0x00B8DD76+566118]\n\tOrdinal0 [0x00A90B2B+1968939]\n\tOrdinal0 [0x00A95988+1989000]\n\tOrdinal0 [0x00A95A75+1989237]\n\tOrdinal0 [0x00A9ECB1+2026673]\n\tBaseThreadInitThunk [0x76686739+25]\n\tRtlGetFullPathName_UEx [0x77928FEF+1215]\n\tRtlGetFullPathName_UEx [0x77928FBD+1165]\n",
     "output_type": "error",
     "traceback": [
      "\u001b[1;31m---------------------------------------------------------------------------\u001b[0m",
      "\u001b[1;31mSessionNotCreatedException\u001b[0m                Traceback (most recent call last)",
      "\u001b[1;32m<ipython-input-1-be780f014db3>\u001b[0m in \u001b[0;36m<module>\u001b[1;34m\u001b[0m\n\u001b[0;32m      1\u001b[0m \u001b[1;32mfrom\u001b[0m \u001b[0mselenium\u001b[0m \u001b[1;32mimport\u001b[0m \u001b[0mwebdriver\u001b[0m\u001b[1;33m\u001b[0m\u001b[1;33m\u001b[0m\u001b[0m\n\u001b[0;32m      2\u001b[0m \u001b[1;33m\u001b[0m\u001b[0m\n\u001b[1;32m----> 3\u001b[1;33m \u001b[0mdriver\u001b[0m \u001b[1;33m=\u001b[0m \u001b[0mwebdriver\u001b[0m\u001b[1;33m.\u001b[0m\u001b[0mChrome\u001b[0m\u001b[1;33m(\u001b[0m\u001b[1;34m'chromedriver.exe'\u001b[0m\u001b[1;33m)\u001b[0m\u001b[1;33m\u001b[0m\u001b[1;33m\u001b[0m\u001b[0m\n\u001b[0m\u001b[0;32m      4\u001b[0m \u001b[0mdriver\u001b[0m\u001b[1;33m.\u001b[0m\u001b[0mimplicitly_wait\u001b[0m\u001b[1;33m(\u001b[0m\u001b[1;36m1\u001b[0m\u001b[1;33m)\u001b[0m\u001b[1;33m\u001b[0m\u001b[1;33m\u001b[0m\u001b[0m\n\u001b[0;32m      5\u001b[0m \u001b[1;33m\u001b[0m\u001b[0m\n",
      "\u001b[1;32m~\\anaconda3\\lib\\site-packages\\selenium\\webdriver\\chrome\\webdriver.py\u001b[0m in \u001b[0;36m__init__\u001b[1;34m(self, executable_path, port, options, service_args, desired_capabilities, service_log_path, chrome_options, service, keep_alive)\u001b[0m\n\u001b[0;32m     68\u001b[0m             \u001b[0mservice\u001b[0m \u001b[1;33m=\u001b[0m \u001b[0mService\u001b[0m\u001b[1;33m(\u001b[0m\u001b[0mexecutable_path\u001b[0m\u001b[1;33m,\u001b[0m \u001b[0mport\u001b[0m\u001b[1;33m,\u001b[0m \u001b[0mservice_args\u001b[0m\u001b[1;33m,\u001b[0m \u001b[0mservice_log_path\u001b[0m\u001b[1;33m)\u001b[0m\u001b[1;33m\u001b[0m\u001b[1;33m\u001b[0m\u001b[0m\n\u001b[0;32m     69\u001b[0m \u001b[1;33m\u001b[0m\u001b[0m\n\u001b[1;32m---> 70\u001b[1;33m         super(WebDriver, self).__init__(DesiredCapabilities.CHROME['browserName'], \"goog\",\n\u001b[0m\u001b[0;32m     71\u001b[0m                                         \u001b[0mport\u001b[0m\u001b[1;33m,\u001b[0m \u001b[0moptions\u001b[0m\u001b[1;33m,\u001b[0m\u001b[1;33m\u001b[0m\u001b[1;33m\u001b[0m\u001b[0m\n\u001b[0;32m     72\u001b[0m                                         \u001b[0mservice_args\u001b[0m\u001b[1;33m,\u001b[0m \u001b[0mdesired_capabilities\u001b[0m\u001b[1;33m,\u001b[0m\u001b[1;33m\u001b[0m\u001b[1;33m\u001b[0m\u001b[0m\n",
      "\u001b[1;32m~\\anaconda3\\lib\\site-packages\\selenium\\webdriver\\chromium\\webdriver.py\u001b[0m in \u001b[0;36m__init__\u001b[1;34m(self, browser_name, vendor_prefix, port, options, service_args, desired_capabilities, service_log_path, service, keep_alive)\u001b[0m\n\u001b[0;32m     91\u001b[0m \u001b[1;33m\u001b[0m\u001b[0m\n\u001b[0;32m     92\u001b[0m         \u001b[1;32mtry\u001b[0m\u001b[1;33m:\u001b[0m\u001b[1;33m\u001b[0m\u001b[1;33m\u001b[0m\u001b[0m\n\u001b[1;32m---> 93\u001b[1;33m             RemoteWebDriver.__init__(\n\u001b[0m\u001b[0;32m     94\u001b[0m                 \u001b[0mself\u001b[0m\u001b[1;33m,\u001b[0m\u001b[1;33m\u001b[0m\u001b[1;33m\u001b[0m\u001b[0m\n\u001b[0;32m     95\u001b[0m                 command_executor=ChromiumRemoteConnection(\n",
      "\u001b[1;32m~\\anaconda3\\lib\\site-packages\\selenium\\webdriver\\remote\\webdriver.py\u001b[0m in \u001b[0;36m__init__\u001b[1;34m(self, command_executor, desired_capabilities, browser_profile, proxy, keep_alive, file_detector, options)\u001b[0m\n\u001b[0;32m    267\u001b[0m         \u001b[0mself\u001b[0m\u001b[1;33m.\u001b[0m\u001b[0mfile_detector\u001b[0m \u001b[1;33m=\u001b[0m \u001b[0mfile_detector\u001b[0m \u001b[1;32mor\u001b[0m \u001b[0mLocalFileDetector\u001b[0m\u001b[1;33m(\u001b[0m\u001b[1;33m)\u001b[0m\u001b[1;33m\u001b[0m\u001b[1;33m\u001b[0m\u001b[0m\n\u001b[0;32m    268\u001b[0m         \u001b[0mself\u001b[0m\u001b[1;33m.\u001b[0m\u001b[0mstart_client\u001b[0m\u001b[1;33m(\u001b[0m\u001b[1;33m)\u001b[0m\u001b[1;33m\u001b[0m\u001b[1;33m\u001b[0m\u001b[0m\n\u001b[1;32m--> 269\u001b[1;33m         \u001b[0mself\u001b[0m\u001b[1;33m.\u001b[0m\u001b[0mstart_session\u001b[0m\u001b[1;33m(\u001b[0m\u001b[0mcapabilities\u001b[0m\u001b[1;33m,\u001b[0m \u001b[0mbrowser_profile\u001b[0m\u001b[1;33m)\u001b[0m\u001b[1;33m\u001b[0m\u001b[1;33m\u001b[0m\u001b[0m\n\u001b[0m\u001b[0;32m    270\u001b[0m \u001b[1;33m\u001b[0m\u001b[0m\n\u001b[0;32m    271\u001b[0m     \u001b[1;32mdef\u001b[0m \u001b[0m__repr__\u001b[0m\u001b[1;33m(\u001b[0m\u001b[0mself\u001b[0m\u001b[1;33m)\u001b[0m\u001b[1;33m:\u001b[0m\u001b[1;33m\u001b[0m\u001b[1;33m\u001b[0m\u001b[0m\n",
      "\u001b[1;32m~\\anaconda3\\lib\\site-packages\\selenium\\webdriver\\remote\\webdriver.py\u001b[0m in \u001b[0;36mstart_session\u001b[1;34m(self, capabilities, browser_profile)\u001b[0m\n\u001b[0;32m    358\u001b[0m         parameters = {\"capabilities\": w3c_caps,\n\u001b[0;32m    359\u001b[0m                       \"desiredCapabilities\": capabilities}\n\u001b[1;32m--> 360\u001b[1;33m         \u001b[0mresponse\u001b[0m \u001b[1;33m=\u001b[0m \u001b[0mself\u001b[0m\u001b[1;33m.\u001b[0m\u001b[0mexecute\u001b[0m\u001b[1;33m(\u001b[0m\u001b[0mCommand\u001b[0m\u001b[1;33m.\u001b[0m\u001b[0mNEW_SESSION\u001b[0m\u001b[1;33m,\u001b[0m \u001b[0mparameters\u001b[0m\u001b[1;33m)\u001b[0m\u001b[1;33m\u001b[0m\u001b[1;33m\u001b[0m\u001b[0m\n\u001b[0m\u001b[0;32m    361\u001b[0m         \u001b[1;32mif\u001b[0m \u001b[1;34m'sessionId'\u001b[0m \u001b[1;32mnot\u001b[0m \u001b[1;32min\u001b[0m \u001b[0mresponse\u001b[0m\u001b[1;33m:\u001b[0m\u001b[1;33m\u001b[0m\u001b[1;33m\u001b[0m\u001b[0m\n\u001b[0;32m    362\u001b[0m             \u001b[0mresponse\u001b[0m \u001b[1;33m=\u001b[0m \u001b[0mresponse\u001b[0m\u001b[1;33m[\u001b[0m\u001b[1;34m'value'\u001b[0m\u001b[1;33m]\u001b[0m\u001b[1;33m\u001b[0m\u001b[1;33m\u001b[0m\u001b[0m\n",
      "\u001b[1;32m~\\anaconda3\\lib\\site-packages\\selenium\\webdriver\\remote\\webdriver.py\u001b[0m in \u001b[0;36mexecute\u001b[1;34m(self, driver_command, params)\u001b[0m\n\u001b[0;32m    423\u001b[0m         \u001b[0mresponse\u001b[0m \u001b[1;33m=\u001b[0m \u001b[0mself\u001b[0m\u001b[1;33m.\u001b[0m\u001b[0mcommand_executor\u001b[0m\u001b[1;33m.\u001b[0m\u001b[0mexecute\u001b[0m\u001b[1;33m(\u001b[0m\u001b[0mdriver_command\u001b[0m\u001b[1;33m,\u001b[0m \u001b[0mparams\u001b[0m\u001b[1;33m)\u001b[0m\u001b[1;33m\u001b[0m\u001b[1;33m\u001b[0m\u001b[0m\n\u001b[0;32m    424\u001b[0m         \u001b[1;32mif\u001b[0m \u001b[0mresponse\u001b[0m\u001b[1;33m:\u001b[0m\u001b[1;33m\u001b[0m\u001b[1;33m\u001b[0m\u001b[0m\n\u001b[1;32m--> 425\u001b[1;33m             \u001b[0mself\u001b[0m\u001b[1;33m.\u001b[0m\u001b[0merror_handler\u001b[0m\u001b[1;33m.\u001b[0m\u001b[0mcheck_response\u001b[0m\u001b[1;33m(\u001b[0m\u001b[0mresponse\u001b[0m\u001b[1;33m)\u001b[0m\u001b[1;33m\u001b[0m\u001b[1;33m\u001b[0m\u001b[0m\n\u001b[0m\u001b[0;32m    426\u001b[0m             response['value'] = self._unwrap_value(\n\u001b[0;32m    427\u001b[0m                 response.get('value', None))\n",
      "\u001b[1;32m~\\anaconda3\\lib\\site-packages\\selenium\\webdriver\\remote\\errorhandler.py\u001b[0m in \u001b[0;36mcheck_response\u001b[1;34m(self, response)\u001b[0m\n\u001b[0;32m    245\u001b[0m                 \u001b[0malert_text\u001b[0m \u001b[1;33m=\u001b[0m \u001b[0mvalue\u001b[0m\u001b[1;33m[\u001b[0m\u001b[1;34m'alert'\u001b[0m\u001b[1;33m]\u001b[0m\u001b[1;33m.\u001b[0m\u001b[0mget\u001b[0m\u001b[1;33m(\u001b[0m\u001b[1;34m'text'\u001b[0m\u001b[1;33m)\u001b[0m\u001b[1;33m\u001b[0m\u001b[1;33m\u001b[0m\u001b[0m\n\u001b[0;32m    246\u001b[0m             \u001b[1;32mraise\u001b[0m \u001b[0mexception_class\u001b[0m\u001b[1;33m(\u001b[0m\u001b[0mmessage\u001b[0m\u001b[1;33m,\u001b[0m \u001b[0mscreen\u001b[0m\u001b[1;33m,\u001b[0m \u001b[0mstacktrace\u001b[0m\u001b[1;33m,\u001b[0m \u001b[0malert_text\u001b[0m\u001b[1;33m)\u001b[0m  \u001b[1;31m# type: ignore[call-arg]  # mypy is not smart enough here\u001b[0m\u001b[1;33m\u001b[0m\u001b[1;33m\u001b[0m\u001b[0m\n\u001b[1;32m--> 247\u001b[1;33m         \u001b[1;32mraise\u001b[0m \u001b[0mexception_class\u001b[0m\u001b[1;33m(\u001b[0m\u001b[0mmessage\u001b[0m\u001b[1;33m,\u001b[0m \u001b[0mscreen\u001b[0m\u001b[1;33m,\u001b[0m \u001b[0mstacktrace\u001b[0m\u001b[1;33m)\u001b[0m\u001b[1;33m\u001b[0m\u001b[1;33m\u001b[0m\u001b[0m\n\u001b[0m\u001b[0;32m    248\u001b[0m \u001b[1;33m\u001b[0m\u001b[0m\n\u001b[0;32m    249\u001b[0m     \u001b[1;32mdef\u001b[0m \u001b[0m_value_or_default\u001b[0m\u001b[1;33m(\u001b[0m\u001b[0mself\u001b[0m\u001b[1;33m,\u001b[0m \u001b[0mobj\u001b[0m\u001b[1;33m:\u001b[0m \u001b[0mMapping\u001b[0m\u001b[1;33m[\u001b[0m\u001b[0m_KT\u001b[0m\u001b[1;33m,\u001b[0m \u001b[0m_VT\u001b[0m\u001b[1;33m]\u001b[0m\u001b[1;33m,\u001b[0m \u001b[0mkey\u001b[0m\u001b[1;33m:\u001b[0m \u001b[0m_KT\u001b[0m\u001b[1;33m,\u001b[0m \u001b[0mdefault\u001b[0m\u001b[1;33m:\u001b[0m \u001b[0m_VT\u001b[0m\u001b[1;33m)\u001b[0m \u001b[1;33m->\u001b[0m \u001b[0m_VT\u001b[0m\u001b[1;33m:\u001b[0m\u001b[1;33m\u001b[0m\u001b[1;33m\u001b[0m\u001b[0m\n",
      "\u001b[1;31mSessionNotCreatedException\u001b[0m: Message: session not created: This version of ChromeDriver only supports Chrome version 100\nCurrent browser version is 102.0.5005.63 with binary path C:\\Program Files\\Google\\Chrome\\Application\\chrome.exe\nStacktrace:\nBacktrace:\n\tOrdinal0 [0x00AF7413+2389011]\n\tOrdinal0 [0x00A89F61+1941345]\n\tOrdinal0 [0x0097C658+837208]\n\tOrdinal0 [0x0099C773+968563]\n\tOrdinal0 [0x0099837A+951162]\n\tOrdinal0 [0x00995C51+941137]\n\tOrdinal0 [0x009C8C80+1150080]\n\tOrdinal0 [0x009C88DA+1149146]\n\tOrdinal0 [0x009C3F66+1130342]\n\tOrdinal0 [0x0099E546+976198]\n\tOrdinal0 [0x0099F456+980054]\n\tGetHandleVerifier [0x00CA9632+1727522]\n\tGetHandleVerifier [0x00D5BA4D+2457661]\n\tGetHandleVerifier [0x00B8EB81+569713]\n\tGetHandleVerifier [0x00B8DD76+566118]\n\tOrdinal0 [0x00A90B2B+1968939]\n\tOrdinal0 [0x00A95988+1989000]\n\tOrdinal0 [0x00A95A75+1989237]\n\tOrdinal0 [0x00A9ECB1+2026673]\n\tBaseThreadInitThunk [0x76686739+25]\n\tRtlGetFullPathName_UEx [0x77928FEF+1215]\n\tRtlGetFullPathName_UEx [0x77928FBD+1165]\n"
     ]
    }
   ],
   "source": [
    "from selenium import webdriver\n",
    "\n",
    "driver = webdriver.Chrome('chromedriver.exe')\n",
    "driver.implicitly_wait(1)\n",
    "\n",
    "driver.get('https://everytime.kr/login') #페이지로 이동\n",
    "driver.find_element_by_name('userid').send_keys(\"아이디\") #아이디를 친다\n",
    "driver.find_element_by_name('password').send_keys(\"비밀번호\") #비밀번호를 친다\n",
    "driver.find_element_by_xpath('//*[@class=\"submit\"]/input').click() #로그인을 클릭한다\n",
    "driver.implicitly_wait(1)"
   ]
  },
  {
   "cell_type": "code",
   "execution_count": 2,
   "id": "4c3c924e",
   "metadata": {},
   "outputs": [
    {
     "name": "stdout",
     "output_type": "stream",
     "text": [
      "인사캠 자유게시판 탐색중...\n"
     ]
    },
    {
     "name": "stderr",
     "output_type": "stream",
     "text": [
      "<ipython-input-2-0c2610d349a8>:18: DeprecationWarning: find_elements_by_css_selector is deprecated. Please use find_elements(by=By.CSS_SELECTOR, value=css_selector) instead\n",
      "  posts = driver.find_elements_by_css_selector('article > a.article')\n",
      "<ipython-input-2-0c2610d349a8>:39: DeprecationWarning: find_elements_by_css_selector is deprecated. Please use find_elements(by=By.CSS_SELECTOR, value=css_selector) instead\n",
      "  posts = driver.find_elements_by_css_selector('article > a.article')\n",
      "<ipython-input-2-0c2610d349a8>:48: DeprecationWarning: find_elements_by_css_selector is deprecated. Please use find_elements(by=By.CSS_SELECTOR, value=css_selector) instead\n",
      "  contents = driver.find_elements_by_css_selector('p.large')\n"
     ]
    },
    {
     "name": "stdout",
     "output_type": "stream",
     "text": [
      "자과캠 자유게시판 탐색중...\n",
      "https://everytime.kr/370445/v/246834430\n",
      "새내기게시판 탐색중...\n",
      "흥보게시판 탐색중...\n",
      "동아리*학회 탐색중...\n",
      "동아리*학회: small\n",
      "시사*이슈 탐색중...\n",
      "글로벌융합학부게시판 탐색중...\n",
      "글로벌융합학부게시판: small\n",
      "영어영문학과게시판 탐색중...\n",
      "영어영문학과게시판: small\n",
      "비밀게시판 탐색중...\n",
      "헬스게시판 탐색중...\n",
      "애니메이션 게시판 탐색중...\n",
      "애니메이션 게시판: small\n",
      "https://everytime.kr/370748/v/179830753\n",
      "https://everytime.kr/370748/v/179810997\n",
      "https://everytime.kr/370748/v/179791828\n",
      "https://everytime.kr/370748/v/179784985\n",
      "https://everytime.kr/370748/v/179723924\n"
     ]
    },
    {
     "data": {
      "text/plain": [
       "['뭘까요? 신한에 대출 신청을 했는데,, 광탈\\n마이너스 통장x 신용점수 800점+',\n",
       " '인간적으로 라디오 너무 시끄럽다..',\n",
       " '율전 위너때도 중국인 많았나',\n",
       " '내일 삼송역 주변에서 간단하게 저녁 같이 드실 분 계신가요 깊은 대화 나누면 좋을 것 같아요',\n",
       " '사례합니다ㅜㅜ']"
      ]
     },
     "execution_count": 2,
     "metadata": {},
     "output_type": "execute_result"
    }
   ],
   "source": [
    "boards = {\n",
    "    \"인사캠 자유게시판\":[370444,[],[],\"big\"],#게시판 번호 - 게시글 - 댓글 - 게시판 규모\n",
    "    \"자과캠 자유게시판\":[370445,[],[],\"big\"],\n",
    "    \"새내기게시판\":[375132,[],[],\"big\"],\n",
    "    \"흥보게시판\":[375129,[],[],\"big\"],\n",
    "    \"동아리*학회\":[418760,[],[],\"big\"],\n",
    "    \"시사*이슈\":[482568,[],[],\"big\"],\n",
    "    \"글로벌융합학부게시판\":[414888,[],[],\"big\"],\n",
    "    \"영어영문학과게시판\":[472006,[],[],\"big\"], \n",
    "    \"비밀게시판\":[375128,[],[],\"big\"],\n",
    "    \"헬스게시판\":[395154, [], [], \"big\"],\n",
    "    \"애니메이션 게시판\":[370748, [], [], \"big\"],\n",
    "}\n",
    "\n",
    "def define_size(board):\n",
    "    driver.get(f\"https://everytime.kr/{boards[board][0]}/p/\"+str(501))\n",
    "    driver.implicitly_wait(1)\n",
    "    posts = driver.find_elements_by_css_selector('article > a.article')\n",
    "    if posts == []:\n",
    "        boards[board][3] = \"small\"\n",
    "        print(f\"{board}: small\")\n",
    "        return False\n",
    "    return True\n",
    "        \n",
    "def get_text_from_boards():\n",
    "    #모든 게시판에 대해서\n",
    "    for board in boards:\n",
    "        print(f\"{board} 탐색중...\")\n",
    "        index = boards[board][0] #게시판의 인덱스를 가져옴\n",
    "        #게시물의 링크를 모아서 저장\n",
    "        is_big = define_size(board)\n",
    "        MAX, TAB = 501, 10\n",
    "        if not is_big:\n",
    "            MAX, TAB = 201,4\n",
    "        for page in range(1,MAX,TAB):\n",
    "            driver.get(f\"https://everytime.kr/{index}/p/\"+str(page))\n",
    "            driver.implicitly_wait(1)\n",
    "\n",
    "            posts = driver.find_elements_by_css_selector('article > a.article')\n",
    "            links = [post.get_attribute(\"href\") for post in posts]\n",
    "            #링크를 타고가서 게시물의 내용을 가져옴\n",
    "            #내용의 경우 게시글의 내용과 댓글의 css 속성이 같음\n",
    "            if links == []:\n",
    "                break\n",
    "                \n",
    "            for link in links:\n",
    "                driver.get(link)\n",
    "                contents = driver.find_elements_by_css_selector('p.large')\n",
    "                try:\n",
    "                    boards[board][1].append(contents[0].text)\n",
    "                    for content in contents[1:]:\n",
    "                        boards[board][2].append(content.text)\n",
    "                    boards[board][2].append(\"||\")\n",
    "                except:\n",
    "                    print(link)\n",
    "                \n",
    "\n",
    "get_text_from_boards()\n",
    "boards[\"인사캠 자유게시판\"][1][:5]"
   ]
  },
  {
   "cell_type": "code",
   "execution_count": 3,
   "id": "a10697f4",
   "metadata": {},
   "outputs": [
    {
     "name": "stdout",
     "output_type": "stream",
     "text": [
      "['뭘까요? 신한에 대출 신청을 했는데,, 광탈\\n마이너스 통장x 신용점수 800점+']\n",
      "['군대 간부 아들이 확진 됐는데 출근해서 일상생활 다 하고 그래놓고 가까이 오지 말라고 하면서 다 부르고\\n밀접접촉 없어졋나요?']\n",
      "['오늘 축제 다른 학교 대학생 출입 가능해?!?! 급해급해']\n",
      "['안녕하세요 브랜딩 연합 동아리 브랜드림입니다.\\n\\n저희들은 MZ세대의 금융 서비스 이용 행태에 대해 분석하고자 설문조사를 진행하고 있습니다.\\n\\n현재 금융 서비스에 대한 여러분들의 소중한 의견이 필요합니다 !\\n\\n추첨을 통해 기프티콘을 드릴 예정이오니, 많은 참여 부탁드립니다😊\\n\\n바쁘신 와중에 참여해주셔서 감사합니다 : )\\n\\n설문조사 링크:\\nhttps://forms.gle/iGqcwNGS7pd3qUUQ9']\n",
      "['어제와 오늘을 잇는 역사 프로젝트, <어제, 오늘> 회원 모집 중‼️\\n\\n어제와 오늘을 잇는 \"이야기\"를 찾아 떠난다! 오늘의 삶에 얽힌 이야기를 찾아 떠나는 역사 프로젝트, <어제, 오늘>에서 회원을 모집합니다! 다가오는 기말고사, 끝나고 나면 뭐하지? 심심한 캠퍼스 라이프와 방학에 생동감, 의미를 담고 싶다면 지금 바로 함께하자😉\\n\\n📌 주요 활동\\n> 주 1회 정기모임 : 주 1회 글과 영상을 넘나드는 \"어제의 이야기\" 모임 진행\\n> 월 1회 나들이 답사 : \"어제, 오늘\" 답사 프로젝트 매달 진행!\\n> 여름/겨울방학 역사기행 : 부산, 광주, 제주 등등 청춘기행에 함께 가자〰️\\n\\n📌 시간 및 장소\\n> 매주 화요일 오후 7시 정기 모임\\n> 서울지역 스터디 카페 혹은 사무실 대여\\n\\n📌 월별 회비\\n> 월 5000원\\n(캠페인 진행 및 모임공간 대여를 비롯한 동아리 활동을 위해 사용하며, 내역은 투명하게 공개합니다.)\\n\\n👉 지원방법 및 문의 👈\\n> 오픈카톡방 : https://open.kakao.com/o/g2xJDFfe\\n> 지원시 면접에서 만난 후 함께하게 됩니다!']\n",
      "['ㅋㅋㅋㅋ']\n",
      "['오늘도 행복한 하루 보내세요!😍']\n",
      "['어딜 읽고 계신건지 주석은 또 어딨는거며 말은 빠르고... 안 읽고 와서 그런가 정신이 하나도 없네...']\n",
      "['수원역 or 인계동 저녁먹을사람!\\n20대 중후반 남자입니다']\n",
      "['중량 스쿼트할 때 다리를 넓게 벌리면, 허리가 덜 아프고 하체에 자극이 더 잘 오는데,\\n문제는 무릎이 아프네요 ㅠ\\n다리를 다시 좁혀야겠어요 ㅠㅠ']\n",
      "['안녕하세요 선생님들\\n데스노트 뮤지컬에 관심이 생겼지만 뮤지컬은 예매 빡셀 거 같아서 포기하고 애니 보려는데 라프텔에 더빙판 있다더라고요\\n\\n근데 더빙이 조금 어색하게 느껴진다거나 하는 거 같은 느낌을 종종 받아서 조금 우려가 되는데 데스노트 애니 더빙판 괜찮은가여']\n"
     ]
    }
   ],
   "source": [
    "for board in boards.keys():\n",
    "    print(boards[board][1][:1])"
   ]
  },
  {
   "cell_type": "code",
   "execution_count": 5,
   "id": "744c0891",
   "metadata": {},
   "outputs": [],
   "source": [
    "import json\n",
    "file = open(\"jsoned_everytime.json\", \"w\")\n",
    "json.dump(boards, file, indent=4)\n",
    "file.close()"
   ]
  }
 ],
 "metadata": {
  "kernelspec": {
   "display_name": "Python 3",
   "language": "python",
   "name": "python3"
  },
  "language_info": {
   "codemirror_mode": {
    "name": "ipython",
    "version": 3
   },
   "file_extension": ".py",
   "mimetype": "text/x-python",
   "name": "python",
   "nbconvert_exporter": "python",
   "pygments_lexer": "ipython3",
   "version": "3.8.8"
  }
 },
 "nbformat": 4,
 "nbformat_minor": 5
}
